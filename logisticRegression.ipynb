{
  "nbformat": 4,
  "nbformat_minor": 0,
  "metadata": {
    "kernelspec": {
      "display_name": "Python 3",
      "language": "python",
      "name": "python3"
    },
    "language_info": {
      "codemirror_mode": {
        "name": "ipython",
        "version": 3
      },
      "file_extension": ".py",
      "mimetype": "text/x-python",
      "name": "python",
      "nbconvert_exporter": "python",
      "pygments_lexer": "ipython3",
      "version": "3.7.1"
    },
    "colab": {
      "name": "logisticRegression.ipynb",
      "provenance": [],
      "collapsed_sections": [
        "MFiCsRxRledE"
      ],
      "include_colab_link": true
    }
  },
  "cells": [
    {
      "cell_type": "markdown",
      "metadata": {
        "id": "view-in-github",
        "colab_type": "text"
      },
      "source": [
        "<a href=\"https://colab.research.google.com/github/cobanov/zemin_istanbul/blob/master/logisticRegression.ipynb\" target=\"_parent\"><img src=\"https://colab.research.google.com/assets/colab-badge.svg\" alt=\"Open In Colab\"/></a>"
      ]
    },
    {
      "cell_type": "markdown",
      "metadata": {
        "id": "O1lN5imPlfWb",
        "colab_type": "text"
      },
      "source": [
        "                                    All rights reserved © Global AI Hub 2020 \n",
        "<img src=\"img/logo.png\" width=200/ align=\"center\">\n"
      ]
    },
    {
      "cell_type": "markdown",
      "metadata": {
        "id": "4CTfJC29leb8",
        "colab_type": "text"
      },
      "source": [
        "# Logistic Regression "
      ]
    },
    {
      "cell_type": "markdown",
      "metadata": {
        "id": "_iq3Lo2Eleb9",
        "colab_type": "text"
      },
      "source": [
        "Logistic regression is a fundamental classification technique. It belongs to the group of linear classifiers and is somewhat similar to polynomial and linear regression. Logistic regression is fast and relatively uncomplicated, and it’s convenient for you to interpret the results. Although it’s essentially a method for binary classification, it can also be applied to multiclass problems."
      ]
    },
    {
      "cell_type": "markdown",
      "metadata": {
        "id": "GA8bmkyAleb-",
        "colab_type": "text"
      },
      "source": [
        "You’ll need an understanding of the sigmoid function and the natural logarithm function to understand what logistic regression is and how it works.\n",
        "\n",
        "This image shows the sigmoid function (or S-shaped curve) of some variable 𝑥:"
      ]
    },
    {
      "cell_type": "markdown",
      "metadata": {
        "id": "s97qP9XJleb-",
        "colab_type": "text"
      },
      "source": [
        "<img src=\"../lor yeni/1.png\" />"
      ]
    },
    {
      "cell_type": "markdown",
      "metadata": {
        "id": "8euP2T8zleb_",
        "colab_type": "text"
      },
      "source": [
        "The sigmoid function has values very close to either 0 or 1 across most of its domain. This fact makes it suitable for application in classification methods."
      ]
    },
    {
      "cell_type": "markdown",
      "metadata": {
        "id": "mWzlA4vqleb_",
        "colab_type": "text"
      },
      "source": [
        "## Single-Variate Logistic Regression"
      ]
    },
    {
      "cell_type": "markdown",
      "metadata": {
        "id": "pzzWSR2glecA",
        "colab_type": "text"
      },
      "source": [
        "Single-variate logistic regression is the most straightforward case of logistic regression. There is only one independent variable (or feature), which is 𝐱 = 𝑥. This figure illustrates single-variate logistic regression:"
      ]
    },
    {
      "cell_type": "markdown",
      "metadata": {
        "id": "CfiHv1p1lecB",
        "colab_type": "text"
      },
      "source": [
        "<img src=\"../lor yeni/2.png\" />"
      ]
    },
    {
      "cell_type": "markdown",
      "metadata": {
        "id": "WdQx45HKlecB",
        "colab_type": "text"
      },
      "source": [
        "Here, you have a given set of input-output (or 𝑥-𝑦) pairs, represented by green circles. These are your observations. Remember that 𝑦 can only be 0 or 1. For example, the leftmost green circle has the input 𝑥 = 0 and the actual output 𝑦 = 0. The rightmost observation has 𝑥 = 9 and 𝑦 = 1.\n",
        "\n",
        "Logistic regression finds the weights 𝑏₀ and 𝑏₁ that correspond to the maximum LLF. These weights define the logit 𝑓(𝑥) = 𝑏₀ + 𝑏₁𝑥, which is the dashed black line. They also define the predicted probability 𝑝(𝑥) = 1 / (1 + exp(−𝑓(𝑥))), shown here as the full black line. In this case, the threshold 𝑝(𝑥) = 0.5 and 𝑓(𝑥) = 0 corresponds to the value of 𝑥 slightly higher than 3. This value is the limit between the inputs with the predicted outputs of 0 and 1."
      ]
    },
    {
      "cell_type": "markdown",
      "metadata": {
        "id": "hWbiiXxTlecC",
        "colab_type": "text"
      },
      "source": [
        "## Multi-Variate Logistic Regression"
      ]
    },
    {
      "cell_type": "markdown",
      "metadata": {
        "id": "LvAT1c7XlecC",
        "colab_type": "text"
      },
      "source": [
        "Multi-variate logistic regression has more than one input variable. This figure shows the classification with two independent variables, 𝑥₁ and 𝑥₂:"
      ]
    },
    {
      "cell_type": "markdown",
      "metadata": {
        "id": "kES-p7oSlecD",
        "colab_type": "text"
      },
      "source": [
        "<img src=\"../lor yeni/3.png\" />"
      ]
    },
    {
      "cell_type": "markdown",
      "metadata": {
        "id": "rhKLvu68lecD",
        "colab_type": "text"
      },
      "source": [
        "The graph is different from the single-variate graph because both axes represent the inputs. The outputs also differ in color. The white circles show the observations classified as zeros, while the green circles are those classified as ones.\n",
        "\n",
        "Logistic regression determines the weights 𝑏₀, 𝑏₁, and 𝑏₂ that maximize the LLF. Once you have 𝑏₀, 𝑏₁, and 𝑏₂, you can get:"
      ]
    },
    {
      "cell_type": "markdown",
      "metadata": {
        "id": "s6rfPhjjlecE",
        "colab_type": "text"
      },
      "source": [
        "-The logit 𝑓(𝑥₁, 𝑥₂) = 𝑏₀ + 𝑏₁𝑥₁ + 𝑏₂𝑥₂\n",
        "\n",
        "-The probabilities 𝑝(𝑥₁, 𝑥₂) = 1 / (1 + exp(−𝑓(𝑥₁, 𝑥₂)))"
      ]
    },
    {
      "cell_type": "markdown",
      "metadata": {
        "id": "RIQUOoHelecE",
        "colab_type": "text"
      },
      "source": [
        "The dash-dotted black line linearly separates the two classes. This line corresponds to 𝑝(𝑥₁, 𝑥₂) = 0.5 and 𝑓(𝑥₁, 𝑥₂) = 0."
      ]
    },
    {
      "cell_type": "markdown",
      "metadata": {
        "id": "GXp6HofvlecF",
        "colab_type": "text"
      },
      "source": [
        "## Logistic Regression in Python"
      ]
    },
    {
      "cell_type": "code",
      "metadata": {
        "id": "ooCLpj5WlecF",
        "colab_type": "code",
        "colab": {}
      },
      "source": [
        "import matplotlib.pyplot as plt\n",
        "import numpy as np\n",
        "from sklearn.linear_model import LogisticRegression\n",
        "from sklearn.metrics import classification_report, confusion_matrix"
      ],
      "execution_count": null,
      "outputs": []
    },
    {
      "cell_type": "code",
      "metadata": {
        "id": "ts_LzMz3lecJ",
        "colab_type": "code",
        "colab": {}
      },
      "source": [
        "x = np.arange(10).reshape(-1, 1)\n",
        "y = np.array([0, 0, 0, 0, 1, 1, 1, 1, 1, 1])"
      ],
      "execution_count": null,
      "outputs": []
    },
    {
      "cell_type": "code",
      "metadata": {
        "id": "ISWMaQmKlecL",
        "colab_type": "code",
        "colab": {}
      },
      "source": [
        "model = LogisticRegression()"
      ],
      "execution_count": null,
      "outputs": []
    },
    {
      "cell_type": "code",
      "metadata": {
        "id": "kEvfhhlvlecO",
        "colab_type": "code",
        "colab": {},
        "outputId": "afc1edc9-773d-48ed-b22c-cb8b6d757828"
      },
      "source": [
        "model.fit(x, y)"
      ],
      "execution_count": null,
      "outputs": [
        {
          "output_type": "stream",
          "text": [
            "C:\\Users\\HP\\Anaconda3\\lib\\site-packages\\sklearn\\linear_model\\logistic.py:433: FutureWarning: Default solver will be changed to 'lbfgs' in 0.22. Specify a solver to silence this warning.\n",
            "  FutureWarning)\n"
          ],
          "name": "stderr"
        },
        {
          "output_type": "execute_result",
          "data": {
            "text/plain": [
              "LogisticRegression(C=1.0, class_weight=None, dual=False, fit_intercept=True,\n",
              "          intercept_scaling=1, max_iter=100, multi_class='warn',\n",
              "          n_jobs=None, penalty='l2', random_state=None, solver='warn',\n",
              "          tol=0.0001, verbose=0, warm_start=False)"
            ]
          },
          "metadata": {
            "tags": []
          },
          "execution_count": 4
        }
      ]
    },
    {
      "cell_type": "markdown",
      "metadata": {
        "id": "P1KY8ygglecS",
        "colab_type": "text"
      },
      "source": [
        "LogisticRegression(C=1.0, class_weight=None, dual=False, fit_intercept=True,\n",
        "                   intercept_scaling=1, l1_ratio=None, max_iter=100,\n",
        "                   multi_class='warn', n_jobs=None, penalty='l2',\n",
        "                   random_state=0, solver='liblinear', tol=0.0001, verbose=0,\n",
        "                   warm_start=False)"
      ]
    },
    {
      "cell_type": "code",
      "metadata": {
        "id": "1Y-XjYkglecS",
        "colab_type": "code",
        "colab": {},
        "outputId": "9d376342-b258-4292-d37a-f636fb19bf79"
      },
      "source": [
        "model = LogisticRegression().fit(x, y)"
      ],
      "execution_count": null,
      "outputs": [
        {
          "output_type": "stream",
          "text": [
            "C:\\Users\\HP\\Anaconda3\\lib\\site-packages\\sklearn\\linear_model\\logistic.py:433: FutureWarning: Default solver will be changed to 'lbfgs' in 0.22. Specify a solver to silence this warning.\n",
            "  FutureWarning)\n"
          ],
          "name": "stderr"
        }
      ]
    },
    {
      "cell_type": "code",
      "metadata": {
        "id": "TWyHYujKleca",
        "colab_type": "code",
        "colab": {},
        "outputId": "6efac8d8-9adf-4ac5-e982-fae7942ad8b4"
      },
      "source": [
        "model.classes_"
      ],
      "execution_count": null,
      "outputs": [
        {
          "output_type": "execute_result",
          "data": {
            "text/plain": [
              "array([0, 1])"
            ]
          },
          "metadata": {
            "tags": []
          },
          "execution_count": 6
        }
      ]
    },
    {
      "cell_type": "code",
      "metadata": {
        "id": "V8I_nURulecc",
        "colab_type": "code",
        "colab": {},
        "outputId": "824c1ee9-18cf-4538-b685-27b55dc2aaac"
      },
      "source": [
        "model.intercept_"
      ],
      "execution_count": null,
      "outputs": [
        {
          "output_type": "execute_result",
          "data": {
            "text/plain": [
              "array([-1.04608067])"
            ]
          },
          "metadata": {
            "tags": []
          },
          "execution_count": 7
        }
      ]
    },
    {
      "cell_type": "code",
      "metadata": {
        "id": "WxHi3o2Ylecf",
        "colab_type": "code",
        "colab": {},
        "outputId": "0c66692f-d3ea-4dc6-f462-00814af62470"
      },
      "source": [
        "model.coef_"
      ],
      "execution_count": null,
      "outputs": [
        {
          "output_type": "execute_result",
          "data": {
            "text/plain": [
              "array([[0.51491375]])"
            ]
          },
          "metadata": {
            "tags": []
          },
          "execution_count": 8
        }
      ]
    },
    {
      "cell_type": "code",
      "metadata": {
        "id": "GO_q7Ucflecj",
        "colab_type": "code",
        "colab": {},
        "outputId": "55a31a08-c370-4b6b-9f6c-c09f0c502405"
      },
      "source": [
        "model.predict_proba(x)"
      ],
      "execution_count": null,
      "outputs": [
        {
          "output_type": "execute_result",
          "data": {
            "text/plain": [
              "array([[0.74002157, 0.25997843],\n",
              "       [0.62975524, 0.37024476],\n",
              "       [0.5040632 , 0.4959368 ],\n",
              "       [0.37785549, 0.62214451],\n",
              "       [0.26628093, 0.73371907],\n",
              "       [0.17821501, 0.82178499],\n",
              "       [0.11472079, 0.88527921],\n",
              "       [0.07186982, 0.92813018],\n",
              "       [0.04422513, 0.95577487],\n",
              "       [0.02690569, 0.97309431]])"
            ]
          },
          "metadata": {
            "tags": []
          },
          "execution_count": 9
        }
      ]
    },
    {
      "cell_type": "code",
      "metadata": {
        "id": "WD6Inaewlecl",
        "colab_type": "code",
        "colab": {},
        "outputId": "ecd200d5-70e5-498d-fa31-06c8d9b0cc26"
      },
      "source": [
        "model.predict(x)"
      ],
      "execution_count": null,
      "outputs": [
        {
          "output_type": "execute_result",
          "data": {
            "text/plain": [
              "array([0, 0, 0, 1, 1, 1, 1, 1, 1, 1])"
            ]
          },
          "metadata": {
            "tags": []
          },
          "execution_count": 10
        }
      ]
    },
    {
      "cell_type": "code",
      "metadata": {
        "id": "0Lw6_in7leco",
        "colab_type": "code",
        "colab": {},
        "outputId": "7e066c8c-f6cc-4959-f96f-eeff8e1f305d"
      },
      "source": [
        "model.score(x, y)"
      ],
      "execution_count": null,
      "outputs": [
        {
          "output_type": "execute_result",
          "data": {
            "text/plain": [
              "0.9"
            ]
          },
          "metadata": {
            "tags": []
          },
          "execution_count": 11
        }
      ]
    },
    {
      "cell_type": "code",
      "metadata": {
        "id": "inYjtdS9lecq",
        "colab_type": "code",
        "colab": {},
        "outputId": "c8a25a25-2ab6-445f-af43-a6c298943ac8"
      },
      "source": [
        "confusion_matrix(y, model.predict(x))"
      ],
      "execution_count": null,
      "outputs": [
        {
          "output_type": "execute_result",
          "data": {
            "text/plain": [
              "array([[3, 1],\n",
              "       [0, 6]], dtype=int64)"
            ]
          },
          "metadata": {
            "tags": []
          },
          "execution_count": 12
        }
      ]
    },
    {
      "cell_type": "code",
      "metadata": {
        "id": "U3CLyPvTlect",
        "colab_type": "code",
        "colab": {},
        "outputId": "b41cb437-bf7b-4296-a2fa-6777aaa496f3"
      },
      "source": [
        "cm = confusion_matrix(y, model.predict(x))\n",
        "\n",
        "fig, ax = plt.subplots(figsize=(8, 8))\n",
        "ax.imshow(cm)\n",
        "ax.grid(False)\n",
        "ax.xaxis.set(ticks=(0, 1), ticklabels=('Predicted 0s', 'Predicted 1s'))\n",
        "ax.yaxis.set(ticks=(0, 1), ticklabels=('Actual 0s', 'Actual 1s'))\n",
        "ax.set_ylim(1.5, -0.5)\n",
        "for i in range(2):\n",
        "    for j in range(2):\n",
        "        ax.text(j, i, cm[i, j], ha='center', va='center', color='red')\n",
        "plt.show()"
      ],
      "execution_count": null,
      "outputs": [
        {
          "output_type": "display_data",
          "data": {
            "image/png": "[encoded data removed]",
            "text/plain": [
              "<Figure size 576x576 with 1 Axes>"
            ]
          },
          "metadata": {
            "tags": [],
            "needs_background": "light"
          }
        }
      ]
    },
    {
      "cell_type": "code",
      "metadata": {
        "id": "hsUoY8_flecv",
        "colab_type": "code",
        "colab": {},
        "outputId": "dcc208a4-87be-42df-80c5-93fc0dc646f5"
      },
      "source": [
        "print(classification_report(y, model.predict(x)))"
      ],
      "execution_count": null,
      "outputs": [
        {
          "output_type": "stream",
          "text": [
            "              precision    recall  f1-score   support\n",
            "\n",
            "           0       1.00      0.75      0.86         4\n",
            "           1       0.86      1.00      0.92         6\n",
            "\n",
            "   micro avg       0.90      0.90      0.90        10\n",
            "   macro avg       0.93      0.88      0.89        10\n",
            "weighted avg       0.91      0.90      0.90        10\n",
            "\n"
          ],
          "name": "stdout"
        }
      ]
    },
    {
      "cell_type": "code",
      "metadata": {
        "id": "3wYZj-pllecy",
        "colab_type": "code",
        "colab": {},
        "outputId": "8d198813-a002-4cc4-ba2b-56f232758d81"
      },
      "source": [
        "model = LogisticRegression(solver='liblinear', C=10.0, random_state=0)\n",
        "model.fit(x, y)"
      ],
      "execution_count": null,
      "outputs": [
        {
          "output_type": "execute_result",
          "data": {
            "text/plain": [
              "LogisticRegression(C=10.0, class_weight=None, dual=False, fit_intercept=True,\n",
              "          intercept_scaling=1, max_iter=100, multi_class='warn',\n",
              "          n_jobs=None, penalty='l2', random_state=0, solver='liblinear',\n",
              "          tol=0.0001, verbose=0, warm_start=False)"
            ]
          },
          "metadata": {
            "tags": []
          },
          "execution_count": 15
        }
      ]
    },
    {
      "cell_type": "code",
      "metadata": {
        "id": "2c1MUas8lec1",
        "colab_type": "code",
        "colab": {},
        "outputId": "d993f8fc-2808-47fb-bc1b-a66546e1523f"
      },
      "source": [
        "model.intercept_"
      ],
      "execution_count": null,
      "outputs": [
        {
          "output_type": "execute_result",
          "data": {
            "text/plain": [
              "array([-3.51335372])"
            ]
          },
          "metadata": {
            "tags": []
          },
          "execution_count": 16
        }
      ]
    },
    {
      "cell_type": "code",
      "metadata": {
        "id": "5MAptsgclec3",
        "colab_type": "code",
        "colab": {},
        "outputId": "501c5009-bbce-4f07-d150-ebcef755ead0"
      },
      "source": [
        "model.coef_"
      ],
      "execution_count": null,
      "outputs": [
        {
          "output_type": "execute_result",
          "data": {
            "text/plain": [
              "array([[1.12066084]])"
            ]
          },
          "metadata": {
            "tags": []
          },
          "execution_count": 17
        }
      ]
    },
    {
      "cell_type": "code",
      "metadata": {
        "id": "Kl20AVxHlec5",
        "colab_type": "code",
        "colab": {},
        "outputId": "de7bd512-6213-4da1-ffd1-d443b89acb0c"
      },
      "source": [
        "model.predict_proba(x)"
      ],
      "execution_count": null,
      "outputs": [
        {
          "output_type": "execute_result",
          "data": {
            "text/plain": [
              "array([[0.97106534, 0.02893466],\n",
              "       [0.9162684 , 0.0837316 ],\n",
              "       [0.7810904 , 0.2189096 ],\n",
              "       [0.53777071, 0.46222929],\n",
              "       [0.27502212, 0.72497788],\n",
              "       [0.11007743, 0.88992257],\n",
              "       [0.03876835, 0.96123165],\n",
              "       [0.01298011, 0.98701989],\n",
              "       [0.0042697 , 0.9957303 ],\n",
              "       [0.00139621, 0.99860379]])"
            ]
          },
          "metadata": {
            "tags": []
          },
          "execution_count": 18
        }
      ]
    },
    {
      "cell_type": "code",
      "metadata": {
        "id": "30IDSy4Ilec7",
        "colab_type": "code",
        "colab": {},
        "outputId": "e6e56ded-0da2-407c-eef9-435d1fae557b"
      },
      "source": [
        "model.predict(x)"
      ],
      "execution_count": null,
      "outputs": [
        {
          "output_type": "execute_result",
          "data": {
            "text/plain": [
              "array([0, 0, 0, 0, 1, 1, 1, 1, 1, 1])"
            ]
          },
          "metadata": {
            "tags": []
          },
          "execution_count": 19
        }
      ]
    },
    {
      "cell_type": "code",
      "metadata": {
        "id": "iMBDTGVJlec9",
        "colab_type": "code",
        "colab": {},
        "outputId": "4d13e887-6896-4b03-f4f0-1713f63bb735"
      },
      "source": [
        "model.score(x, y)"
      ],
      "execution_count": null,
      "outputs": [
        {
          "output_type": "execute_result",
          "data": {
            "text/plain": [
              "1.0"
            ]
          },
          "metadata": {
            "tags": []
          },
          "execution_count": 20
        }
      ]
    },
    {
      "cell_type": "code",
      "metadata": {
        "id": "1XZwGMEZlec_",
        "colab_type": "code",
        "colab": {},
        "outputId": "b59aa2f0-687e-4e25-93e0-9eea939c51a1"
      },
      "source": [
        "confusion_matrix(y, model.predict(x))"
      ],
      "execution_count": null,
      "outputs": [
        {
          "output_type": "execute_result",
          "data": {
            "text/plain": [
              "array([[4, 0],\n",
              "       [0, 6]], dtype=int64)"
            ]
          },
          "metadata": {
            "tags": []
          },
          "execution_count": 21
        }
      ]
    },
    {
      "cell_type": "code",
      "metadata": {
        "id": "hAo4kysIledB",
        "colab_type": "code",
        "colab": {},
        "outputId": "86fcee8c-d72c-43e3-a655-4b1e2cc4c6d4"
      },
      "source": [
        "print(classification_report(y, model.predict(x)))"
      ],
      "execution_count": null,
      "outputs": [
        {
          "output_type": "stream",
          "text": [
            "              precision    recall  f1-score   support\n",
            "\n",
            "           0       1.00      1.00      1.00         4\n",
            "           1       1.00      1.00      1.00         6\n",
            "\n",
            "   micro avg       1.00      1.00      1.00        10\n",
            "   macro avg       1.00      1.00      1.00        10\n",
            "weighted avg       1.00      1.00      1.00        10\n",
            "\n"
          ],
          "name": "stdout"
        }
      ]
    },
    {
      "cell_type": "markdown",
      "metadata": {
        "id": "MFiCsRxRledE",
        "colab_type": "text"
      },
      "source": [
        "#### Second Example"
      ]
    },
    {
      "cell_type": "code",
      "metadata": {
        "id": "3Ar2vutDledE",
        "colab_type": "code",
        "colab": {}
      },
      "source": [
        "# Step 1: Import packages, functions, and classes\n",
        "import numpy as np\n",
        "from sklearn.linear_model import LogisticRegression\n",
        "from sklearn.metrics import classification_report, confusion_matrix\n",
        "\n",
        "# Step 2: Get data\n",
        "x = np.arange(10).reshape(-1, 1)\n",
        "y = np.array([0, 1, 0, 0, 1, 1, 1, 1, 1, 1])\n",
        "\n",
        "# Step 3: Create a model and train it\n",
        "model = LogisticRegression(solver='liblinear', C=10.0, random_state=0)\n",
        "model.fit(x, y)\n",
        "\n",
        "# Step 4: Evaluate the model\n",
        "p_pred = model.predict_proba(x)\n",
        "y_pred = model.predict(x)\n",
        "score_ = model.score(x, y)\n",
        "conf_m = confusion_matrix(y, y_pred)\n",
        "report = classification_report(y, y_pred)"
      ],
      "execution_count": null,
      "outputs": []
    },
    {
      "cell_type": "code",
      "metadata": {
        "id": "pAMawOO1ledG",
        "colab_type": "code",
        "colab": {},
        "outputId": "d300b91f-892a-43db-acda-83d258755079"
      },
      "source": [
        "print('x:', x, sep='\\n')"
      ],
      "execution_count": null,
      "outputs": [
        {
          "output_type": "stream",
          "text": [
            "x:\n",
            "[[0]\n",
            " [1]\n",
            " [2]\n",
            " [3]\n",
            " [4]\n",
            " [5]\n",
            " [6]\n",
            " [7]\n",
            " [8]\n",
            " [9]]\n"
          ],
          "name": "stdout"
        }
      ]
    },
    {
      "cell_type": "code",
      "metadata": {
        "id": "JKikNlPeledI",
        "colab_type": "code",
        "colab": {},
        "outputId": "5ea29972-0804-447b-efb4-bb440de94aed"
      },
      "source": [
        "print('y:', y, sep='\\n', end='\\n\\n')"
      ],
      "execution_count": null,
      "outputs": [
        {
          "output_type": "stream",
          "text": [
            "y:\n",
            "[0 1 0 0 1 1 1 1 1 1]\n",
            "\n"
          ],
          "name": "stdout"
        }
      ]
    },
    {
      "cell_type": "code",
      "metadata": {
        "id": "fGXnbaCTledK",
        "colab_type": "code",
        "colab": {},
        "outputId": "640f3da4-a5a0-433d-cd49-c6a9a4059d21"
      },
      "source": [
        "print('intercept:', model.intercept_)"
      ],
      "execution_count": null,
      "outputs": [
        {
          "output_type": "stream",
          "text": [
            "intercept: [-1.51632619]\n"
          ],
          "name": "stdout"
        }
      ]
    },
    {
      "cell_type": "code",
      "metadata": {
        "id": "rw1ltMBtledM",
        "colab_type": "code",
        "colab": {},
        "outputId": "c60d186f-5e97-4223-cd0a-0af11b024a5a"
      },
      "source": [
        "print('coef:', model.coef_, end='\\n\\n')"
      ],
      "execution_count": null,
      "outputs": [
        {
          "output_type": "stream",
          "text": [
            "coef: [[0.703457]]\n",
            "\n"
          ],
          "name": "stdout"
        }
      ]
    },
    {
      "cell_type": "code",
      "metadata": {
        "id": "YynXQMiMledP",
        "colab_type": "code",
        "colab": {},
        "outputId": "ec9bc936-0c83-44a0-e21b-ec700d4a01f1"
      },
      "source": [
        "print('p_pred:', p_pred, sep='\\n', end='\\n\\n')"
      ],
      "execution_count": null,
      "outputs": [
        {
          "output_type": "stream",
          "text": [
            "p_pred:\n",
            "[[0.81999686 0.18000314]\n",
            " [0.69272057 0.30727943]\n",
            " [0.52732579 0.47267421]\n",
            " [0.35570732 0.64429268]\n",
            " [0.21458576 0.78541424]\n",
            " [0.11910229 0.88089771]\n",
            " [0.06271329 0.93728671]\n",
            " [0.03205032 0.96794968]\n",
            " [0.0161218  0.9838782 ]\n",
            " [0.00804372 0.99195628]]\n",
            "\n"
          ],
          "name": "stdout"
        }
      ]
    },
    {
      "cell_type": "code",
      "metadata": {
        "id": "WYySZbq9ledR",
        "colab_type": "code",
        "colab": {},
        "outputId": "36881c03-826a-4fcd-be6c-f6e314e23379"
      },
      "source": [
        "print('y_pred:', y_pred, end='\\n\\n')"
      ],
      "execution_count": null,
      "outputs": [
        {
          "output_type": "stream",
          "text": [
            "y_pred: [0 0 0 1 1 1 1 1 1 1]\n",
            "\n"
          ],
          "name": "stdout"
        }
      ]
    },
    {
      "cell_type": "code",
      "metadata": {
        "id": "rV0csQDcledU",
        "colab_type": "code",
        "colab": {},
        "outputId": "7bb00af6-8ff7-4491-8836-5793bc59224e"
      },
      "source": [
        "print('score_:', score_, end='\\n\\n')"
      ],
      "execution_count": null,
      "outputs": [
        {
          "output_type": "stream",
          "text": [
            "score_: 0.8\n",
            "\n"
          ],
          "name": "stdout"
        }
      ]
    },
    {
      "cell_type": "code",
      "metadata": {
        "id": "Dr_iwdB2ledW",
        "colab_type": "code",
        "colab": {},
        "outputId": "6e0d9942-210a-40a7-ea34-b5521ec7e40c"
      },
      "source": [
        "print('conf_m:', conf_m, sep='\\n', end='\\n\\n')"
      ],
      "execution_count": null,
      "outputs": [
        {
          "output_type": "stream",
          "text": [
            "conf_m:\n",
            "[[2 1]\n",
            " [1 6]]\n",
            "\n"
          ],
          "name": "stdout"
        }
      ]
    },
    {
      "cell_type": "code",
      "metadata": {
        "id": "gKGQGNk_ledZ",
        "colab_type": "code",
        "colab": {},
        "outputId": "55eedb3d-034f-4281-bfcc-4cbef96a4ddc"
      },
      "source": [
        "print('report:', report, sep='\\n')"
      ],
      "execution_count": null,
      "outputs": [
        {
          "output_type": "stream",
          "text": [
            "report:\n",
            "              precision    recall  f1-score   support\n",
            "\n",
            "           0       0.67      0.67      0.67         3\n",
            "           1       0.86      0.86      0.86         7\n",
            "\n",
            "   micro avg       0.80      0.80      0.80        10\n",
            "   macro avg       0.76      0.76      0.76        10\n",
            "weighted avg       0.80      0.80      0.80        10\n",
            "\n"
          ],
          "name": "stdout"
        }
      ]
    },
    {
      "cell_type": "code",
      "metadata": {
        "id": "tO-3X_b8ledb",
        "colab_type": "code",
        "colab": {}
      },
      "source": [
        ""
      ],
      "execution_count": null,
      "outputs": []
    }
  ]
}