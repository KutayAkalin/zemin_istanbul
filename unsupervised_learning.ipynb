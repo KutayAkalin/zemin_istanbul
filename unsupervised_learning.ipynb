{
  "nbformat": 4,
  "nbformat_minor": 0,
  "metadata": {
    "kernelspec": {
      "display_name": "Python 3",
      "language": "python",
      "name": "python3"
    },
    "language_info": {
      "codemirror_mode": {
        "name": "ipython",
        "version": 3
      },
      "file_extension": ".py",
      "mimetype": "text/x-python",
      "name": "python",
      "nbconvert_exporter": "python",
      "pygments_lexer": "ipython3",
      "version": "3.7.1"
    },
    "colab": {
      "name": "ul.ipynb",
      "provenance": [],
      "include_colab_link": true
    }
  },
  "cells": [
    {
      "cell_type": "markdown",
      "metadata": {
        "id": "view-in-github",
        "colab_type": "text"
      },
      "source": [
        "<a href=\"https://colab.research.google.com/github/cobanov/zemin_istanbul/blob/master/unsupervised_learning.ipynb\" target=\"_parent\"><img src=\"https://colab.research.google.com/assets/colab-badge.svg\" alt=\"Open In Colab\"/></a>"
      ]
    },
    {
      "cell_type": "markdown",
      "metadata": {
        "id": "GyzG2YmSs89r",
        "colab_type": "text"
      },
      "source": [
        "# Clustering"
      ]
    },
    {
      "cell_type": "markdown",
      "metadata": {
        "id": "WmS8ct5vs89s",
        "colab_type": "text"
      },
      "source": [
        "Clustering can be considered the most important unsupervised learning problem; so, as every other problem of this kind, it deals with finding a structure in a collection of unlabeled data. A loose definition of clustering could be “the process of organizing objects into groups whose members are similar in some way”. A cluster is therefore a collection of objects which are “similar” between them and are “dissimilar” to the objects belonging to other clusters."
      ]
    },
    {
      "cell_type": "markdown",
      "metadata": {
        "id": "AyDGFgYgs89s",
        "colab_type": "text"
      },
      "source": [
        "<img src=\"../ul/1.png\" />"
      ]
    },
    {
      "cell_type": "markdown",
      "metadata": {
        "id": "BDGsmEBIs89t",
        "colab_type": "text"
      },
      "source": [
        "#### Types of Clustering"
      ]
    },
    {
      "cell_type": "markdown",
      "metadata": {
        "id": "75FkrRlts89u",
        "colab_type": "text"
      },
      "source": [
        "\"Centroid-based Clustering\" organizes the data into non-hierarchical clusters, in contrast to hierarchical clustering defined below. k-means is the most widely-used centroid-based clustering algorithm. Centroid-based algorithms are efficient but sensitive to initial conditions and outliers."
      ]
    },
    {
      "cell_type": "markdown",
      "metadata": {
        "id": "R7kc2Op3s89u",
        "colab_type": "text"
      },
      "source": [
        "<img src=\"../ul/8.png\" />"
      ]
    },
    {
      "cell_type": "markdown",
      "metadata": {
        "id": "tNSZvo3ts89u",
        "colab_type": "text"
      },
      "source": [
        "\"Density-based Clustering\" connects areas of high example density into clusters. This allows for arbitrary-shaped distributions as long as dense areas can be connected. These algorithms have difficulty with data of varying densities and high dimensions. Further, by design, these algorithms do not assign outliers to clusters."
      ]
    },
    {
      "cell_type": "markdown",
      "metadata": {
        "id": "NSqTRsYUs89v",
        "colab_type": "text"
      },
      "source": [
        "<img src=\"../ul/9.png\" />"
      ]
    },
    {
      "cell_type": "markdown",
      "metadata": {
        "id": "zJB0jOW5s89v",
        "colab_type": "text"
      },
      "source": [
        "\"Distribution-based Clustering\" approach assumes data is composed of distributions, such as Gaussian distributions. In the picture, the distribution-based algorithm clusters data into three Gaussian distributions. As distance from the distribution's center increases, the probability that a point belongs to the distribution decreases. The bands show that decrease in probability. When you do not know the type of distribution in your data, you should use a different algorithm."
      ]
    },
    {
      "cell_type": "markdown",
      "metadata": {
        "id": "nG0k0sDWs89w",
        "colab_type": "text"
      },
      "source": [
        "<img src=\"../ul/10.png\" />"
      ]
    },
    {
      "cell_type": "markdown",
      "metadata": {
        "id": "9IkgcrVEs89w",
        "colab_type": "text"
      },
      "source": [
        "\"Hierarchical clustering\" creates a tree of clusters. Hierarchical clustering, not surprisingly, is well suited to hierarchical data, such as taxonomies. "
      ]
    },
    {
      "cell_type": "markdown",
      "metadata": {
        "id": "XCuBIfhfs89w",
        "colab_type": "text"
      },
      "source": [
        "<img src=\"../ul/11.png\" />"
      ]
    },
    {
      "cell_type": "markdown",
      "metadata": {
        "id": "cHGA4U1rs89x",
        "colab_type": "text"
      },
      "source": [
        "## K-Means Clustering"
      ]
    },
    {
      "cell_type": "markdown",
      "metadata": {
        "id": "x7PArFvQs89x",
        "colab_type": "text"
      },
      "source": [
        "The K-Means algorithm clusters data by trying to separate samples in n groups of equal variance, minimizing a criterion known as the inertia or within-cluster sum-of-squares. This algorithm requires the number of clusters to be specified. It scales well to large number of samples and has been used across a large range of application areas in many different fields."
      ]
    },
    {
      "cell_type": "markdown",
      "metadata": {
        "id": "tmG7LgDds89x",
        "colab_type": "text"
      },
      "source": [
        "The k-means algorithm divides a set of N samples X into K disjoint clusters C, each described by the mean $\\mu_j$\n",
        " of the samples in the cluster. The means are commonly called the cluster “centroids”; note that they are not, in general, points from X, although they live in the same space."
      ]
    },
    {
      "cell_type": "markdown",
      "metadata": {
        "id": "IvvIYnNOs89y",
        "colab_type": "text"
      },
      "source": [
        "The K-means algorithm aims to choose centroids that minimise the inertia, or within-cluster sum-of-squares criterion:"
      ]
    },
    {
      "cell_type": "markdown",
      "metadata": {
        "id": "eomhyzRxs89y",
        "colab_type": "text"
      },
      "source": [
        "<p><\\sum&space;min(||x_i&space;-&space;\\mu_j||^2)\" target=\"_blank\"><img src=\"https://latex.codecogs.com/gif.latex?\\sum&space;min(||x_i&space;-&space;\\mu_j||^2)\" title=\"\\sum min(||x_i - \\mu_j||^2)\" /></p>"
      ]
    },
    {
      "cell_type": "markdown",
      "metadata": {
        "id": "PaLk-isXs89y",
        "colab_type": "text"
      },
      "source": [
        "<img src=\"../ul/2.png\" />"
      ]
    },
    {
      "cell_type": "markdown",
      "metadata": {
        "id": "HcRGNffYs89z",
        "colab_type": "text"
      },
      "source": [
        "#Step One"
      ]
    },
    {
      "cell_type": "markdown",
      "metadata": {
        "id": "6EhWH_t1s89z",
        "colab_type": "text"
      },
      "source": [
        "The algorithm randomly chooses a centroid for each cluster. In our example, we choose a k of 3, and therefore the algorithm randomly picks 3 centroids."
      ]
    },
    {
      "cell_type": "markdown",
      "metadata": {
        "id": "6eLi7FIXs89z",
        "colab_type": "text"
      },
      "source": [
        "<img src=\"../ul/4.png\" />"
      ]
    },
    {
      "cell_type": "markdown",
      "metadata": {
        "id": "cnb2x8c7s890",
        "colab_type": "text"
      },
      "source": [
        "#Step Two"
      ]
    },
    {
      "cell_type": "markdown",
      "metadata": {
        "id": "aMZfgFGGs890",
        "colab_type": "text"
      },
      "source": [
        "The algorithm assigns each point to the closest centroid to get k initial clusters."
      ]
    },
    {
      "cell_type": "markdown",
      "metadata": {
        "id": "_qkwP2zas890",
        "colab_type": "text"
      },
      "source": [
        "<img src=\"../ul/5.png\" />"
      ]
    },
    {
      "cell_type": "markdown",
      "metadata": {
        "id": "rnpIjVfMs891",
        "colab_type": "text"
      },
      "source": [
        "#Step Three"
      ]
    },
    {
      "cell_type": "markdown",
      "metadata": {
        "id": "4cuTpWaJs891",
        "colab_type": "text"
      },
      "source": [
        "For every cluster, the algorithm recomputes the centroid by taking the average of all points in the cluster. The changes in centroids are shown in Figure 3 by arrows. Since the centroids change, the algorithm then re-assigns the points to the closest centroid. Figure 4 shows the new clusters after re-assignment."
      ]
    },
    {
      "cell_type": "markdown",
      "metadata": {
        "id": "W6qwozARs891",
        "colab_type": "text"
      },
      "source": [
        "<img src=\"../ul/6.png\" />"
      ]
    },
    {
      "cell_type": "markdown",
      "metadata": {
        "id": "hvjUagQLs892",
        "colab_type": "text"
      },
      "source": [
        "#Step Four"
      ]
    },
    {
      "cell_type": "markdown",
      "metadata": {
        "id": "X0AtQu60s892",
        "colab_type": "text"
      },
      "source": [
        "The algorithm repeats the calculation of centroids and assignment of points until points stop changing clusters. When clustering large datasets, you stop the algorithm before reaching convergence, using other criteria instead."
      ]
    },
    {
      "cell_type": "markdown",
      "metadata": {
        "id": "W07RLZ4Ws892",
        "colab_type": "text"
      },
      "source": [
        "<img src=\"../ul/7.png\" />"
      ]
    },
    {
      "cell_type": "markdown",
      "metadata": {
        "id": "IFEIUDv7s893",
        "colab_type": "text"
      },
      "source": [
        "#### K Means Parameters : https://scikit-learn.org/stable/modules/generated/sklearn.cluster.KMeans.html"
      ]
    },
    {
      "cell_type": "markdown",
      "metadata": {
        "id": "oLENs24Xs893",
        "colab_type": "text"
      },
      "source": [
        "#### Mini Batch K-Means"
      ]
    },
    {
      "cell_type": "markdown",
      "metadata": {
        "id": "EUDMd38ls893",
        "colab_type": "text"
      },
      "source": [
        "The MiniBatchKMeans is a variant of the KMeans algorithm which uses mini-batches to reduce the computation time, while still attempting to optimise the same objective function. Mini-batches are subsets of the input data, randomly sampled in each training iteration. These mini-batches drastically reduce the amount of computation required to converge to a local solution. In contrast to other algorithms that reduce the convergence time of k-means, mini-batch k-means produces results that are generally only slightly worse than the standard algorithm."
      ]
    },
    {
      "cell_type": "markdown",
      "metadata": {
        "id": "G5ODhTs8s893",
        "colab_type": "text"
      },
      "source": [
        "MiniBatchKMeans converges faster than KMeans, but the quality of the results is reduced. In practice this difference in quality can be quite small, as shown in the example and cited reference.\n"
      ]
    },
    {
      "cell_type": "markdown",
      "metadata": {
        "id": "gjA6DTqbs894",
        "colab_type": "text"
      },
      "source": [
        "<img src=\"../ul/3.png\" />"
      ]
    },
    {
      "cell_type": "code",
      "metadata": {
        "id": "b5aRPk_Zs894",
        "colab_type": "code",
        "colab": {}
      },
      "source": [
        "import numpy as np\n",
        "import pandas as pd\n",
        "import matplotlib.pyplot as plt"
      ],
      "execution_count": null,
      "outputs": []
    },
    {
      "cell_type": "code",
      "metadata": {
        "id": "7sYybz9us898",
        "colab_type": "code",
        "colab": {}
      },
      "source": [
        "from sklearn.datasets import make_blobs"
      ],
      "execution_count": null,
      "outputs": []
    },
    {
      "cell_type": "code",
      "metadata": {
        "id": "zdxy4Rgds899",
        "colab_type": "code",
        "colab": {}
      },
      "source": [
        "# verimizi üretiyoruz\n",
        "X, y = make_blobs(n_samples=1000, n_features=2, cluster_std=5.5, random_state=42)     "
      ],
      "execution_count": null,
      "outputs": []
    },
    {
      "cell_type": "code",
      "metadata": {
        "id": "FxY0w9sHs89_",
        "colab_type": "code",
        "colab": {}
      },
      "source": [
        "from sklearn.model_selection import train_test_split "
      ],
      "execution_count": null,
      "outputs": []
    },
    {
      "cell_type": "code",
      "metadata": {
        "id": "fxxTIgh-s8-B",
        "colab_type": "code",
        "colab": {}
      },
      "source": [
        "# verimizi train ve test olarak olarak ayırıyoruz\n",
        "X_train, X_test, y_train, y_test = train_test_split(X,y,test_size=0.2, random_state=42)  "
      ],
      "execution_count": null,
      "outputs": []
    },
    {
      "cell_type": "code",
      "metadata": {
        "id": "MtTnveWEs8-D",
        "colab_type": "code",
        "colab": {}
      },
      "source": [
        "# KNN Classifier'ı import ediyoruz\n",
        "from sklearn.neighbors import KNeighborsClassifier     "
      ],
      "execution_count": null,
      "outputs": []
    },
    {
      "cell_type": "code",
      "metadata": {
        "id": "KA1YKsjZs8-F",
        "colab_type": "code",
        "colab": {}
      },
      "source": [
        "# Modelimizi oluşturuyoruz\n",
        "model = KNeighborsClassifier(n_neighbors=1)  "
      ],
      "execution_count": null,
      "outputs": []
    },
    {
      "cell_type": "code",
      "metadata": {
        "id": "jraBTRB0s8-H",
        "colab_type": "code",
        "colab": {},
        "outputId": "c2d0ca2b-f8a6-4c92-92bb-04946f52eade"
      },
      "source": [
        "# modelimizi fit ediyoruz\n",
        "model.fit(X_train, y_train)  "
      ],
      "execution_count": null,
      "outputs": [
        {
          "output_type": "execute_result",
          "data": {
            "text/plain": [
              "KNeighborsClassifier(algorithm='auto', leaf_size=30, metric='minkowski',\n",
              "           metric_params=None, n_jobs=None, n_neighbors=1, p=2,\n",
              "           weights='uniform')"
            ]
          },
          "metadata": {
            "tags": []
          },
          "execution_count": 9
        }
      ]
    },
    {
      "cell_type": "code",
      "metadata": {
        "id": "CY_-eShbs8-J",
        "colab_type": "code",
        "colab": {},
        "outputId": "4dbc6aa8-b42e-4a74-cd58-52a7fc3540dc"
      },
      "source": [
        "# modelin train skoru\n",
        "model.score(X_train, y_train)  "
      ],
      "execution_count": null,
      "outputs": [
        {
          "output_type": "execute_result",
          "data": {
            "text/plain": [
              "1.0"
            ]
          },
          "metadata": {
            "tags": []
          },
          "execution_count": 10
        }
      ]
    },
    {
      "cell_type": "code",
      "metadata": {
        "id": "n_1UBoyhs8-L",
        "colab_type": "code",
        "colab": {},
        "outputId": "e6491b42-e063-400c-94bb-34f8f6378565"
      },
      "source": [
        "# modelin test skoru\n",
        "model.score(X_test, y_test)   "
      ],
      "execution_count": null,
      "outputs": [
        {
          "output_type": "execute_result",
          "data": {
            "text/plain": [
              "0.705"
            ]
          },
          "metadata": {
            "tags": []
          },
          "execution_count": 11
        }
      ]
    },
    {
      "cell_type": "code",
      "metadata": {
        "id": "e6p0mK2Ps8-M",
        "colab_type": "code",
        "colab": {}
      },
      "source": [
        "# modelin \"n_neighbours\" parametresine göre train ve test verilerinin değişimini gözlemlemek \n",
        "# için for döngüsü kuruyoruz\n",
        "\n",
        "train=[]\n",
        "test=[]\n",
        "for n in range(1,79,2):\n",
        "    model = KNeighborsClassifier(n_neighbors=n)\n",
        "    model.fit(X_train, y_train)\n",
        "    train.append(model.score(X_train, y_train))\n",
        "    test.append(model.score(X_test, y_test))"
      ],
      "execution_count": null,
      "outputs": []
    },
    {
      "cell_type": "code",
      "metadata": {
        "id": "stWbC65As8-O",
        "colab_type": "code",
        "colab": {},
        "outputId": "5eb2f4b9-fd47-4eb3-8236-f079a82a731a"
      },
      "source": [
        "# \"n_neighbours\" parametresine göre train ve test verilerinin değişimi\n",
        "plt.plot(train)\n",
        "plt.plot(test)"
      ],
      "execution_count": null,
      "outputs": [
        {
          "output_type": "execute_result",
          "data": {
            "text/plain": [
              "[<matplotlib.lines.Line2D at 0x1ab2b3fae48>]"
            ]
          },
          "metadata": {
            "tags": []
          },
          "execution_count": 13
        },
        {
          "output_type": "display_data",
          "data": {
            "image/png": "[encoded data removed]",
            "text/plain": [
              "<Figure size 432x288 with 1 Axes>"
            ]
          },
          "metadata": {
            "tags": [],
            "needs_background": "light"
          }
        }
      ]
    },
    {
      "cell_type": "code",
      "metadata": {
        "id": "bNzfLs9Zs8-Q",
        "colab_type": "code",
        "colab": {}
      },
      "source": [
        ""
      ],
      "execution_count": null,
      "outputs": []
    },
    {
      "cell_type": "markdown",
      "metadata": {
        "id": "dyjFEzv-s8-R",
        "colab_type": "text"
      },
      "source": [
        "Demonstration of k-means assumptions\n",
        "SCIKIT ORNEGI İSTERSEN KALDIRABILIRSIN!"
      ]
    },
    {
      "cell_type": "code",
      "metadata": {
        "id": "ggGsMVUws8-R",
        "colab_type": "code",
        "colab": {}
      },
      "source": [
        "import numpy as np\n",
        "import matplotlib.pyplot as plt\n",
        "\n",
        "from sklearn.cluster import KMeans\n",
        "from sklearn.datasets import make_blobs"
      ],
      "execution_count": null,
      "outputs": []
    },
    {
      "cell_type": "code",
      "metadata": {
        "id": "A5vG6KIIs8-T",
        "colab_type": "code",
        "colab": {},
        "outputId": "ba171693-9d2a-4820-891c-910c2c009e89"
      },
      "source": [
        "plt.figure(figsize=(12, 12))"
      ],
      "execution_count": null,
      "outputs": [
        {
          "output_type": "execute_result",
          "data": {
            "text/plain": [
              "<Figure size 864x864 with 0 Axes>"
            ]
          },
          "metadata": {
            "tags": []
          },
          "execution_count": 22
        },
        {
          "output_type": "display_data",
          "data": {
            "text/plain": [
              "<Figure size 864x864 with 0 Axes>"
            ]
          },
          "metadata": {
            "tags": []
          }
        }
      ]
    },
    {
      "cell_type": "code",
      "metadata": {
        "id": "Fif-at9Ss8-U",
        "colab_type": "code",
        "colab": {}
      },
      "source": [
        "n_samples = 1500\n",
        "random_state = 170\n",
        "X, y = make_blobs(n_samples=n_samples, random_state=random_state)"
      ],
      "execution_count": null,
      "outputs": []
    },
    {
      "cell_type": "code",
      "metadata": {
        "id": "LUlFcY9Ks8-W",
        "colab_type": "code",
        "colab": {}
      },
      "source": [
        "y_pred = KMeans(n_clusters=2, random_state=random_state).fit_predict(X)"
      ],
      "execution_count": null,
      "outputs": []
    },
    {
      "cell_type": "code",
      "metadata": {
        "id": "kaTlntpjs8-Y",
        "colab_type": "code",
        "colab": {},
        "outputId": "6126411e-f8d5-4a82-8ec1-5634ee8c47d9"
      },
      "source": [
        "plt.subplot(221)\n",
        "plt.scatter(X[:, 0], X[:, 1], c=y_pred)\n",
        "plt.title(\"Incorrect Number of Blobs\")"
      ],
      "execution_count": null,
      "outputs": [
        {
          "output_type": "execute_result",
          "data": {
            "text/plain": [
              "Text(0.5, 1.0, 'Incorrect Number of Blobs')"
            ]
          },
          "metadata": {
            "tags": []
          },
          "execution_count": 25
        },
        {
          "output_type": "display_data",
          "data": {
            "image/png": "[encoded data removed]",
            "text/plain": [
              "<Figure size 432x288 with 1 Axes>"
            ]
          },
          "metadata": {
            "tags": [],
            "needs_background": "light"
          }
        }
      ]
    },
    {
      "cell_type": "code",
      "metadata": {
        "id": "9yQVezmQs8-a",
        "colab_type": "code",
        "colab": {}
      },
      "source": [
        "# Anisotropicly distributed data\n",
        "transformation = [[0.60834549, -0.63667341], [-0.40887718, 0.85253229]]\n",
        "X_aniso = np.dot(X, transformation)\n",
        "y_pred = KMeans(n_clusters=3, random_state=random_state).fit_predict(X_aniso)"
      ],
      "execution_count": null,
      "outputs": []
    },
    {
      "cell_type": "code",
      "metadata": {
        "id": "zj11wPEQs8-c",
        "colab_type": "code",
        "colab": {},
        "outputId": "43eda319-cf5a-4666-9b01-16a60c27d8fb"
      },
      "source": [
        "plt.subplot(222)\n",
        "plt.scatter(X_aniso[:, 0], X_aniso[:, 1], c=y_pred)\n",
        "plt.title(\"Anisotropicly Distributed Blobs\")"
      ],
      "execution_count": null,
      "outputs": [
        {
          "output_type": "execute_result",
          "data": {
            "text/plain": [
              "Text(0.5, 1.0, 'Anisotropicly Distributed Blobs')"
            ]
          },
          "metadata": {
            "tags": []
          },
          "execution_count": 27
        },
        {
          "output_type": "display_data",
          "data": {
            "image/png": "[encoded data removed]",
            "text/plain": [
              "<Figure size 432x288 with 1 Axes>"
            ]
          },
          "metadata": {
            "tags": [],
            "needs_background": "light"
          }
        }
      ]
    },
    {
      "cell_type": "code",
      "metadata": {
        "id": "F9GxOsybs8-d",
        "colab_type": "code",
        "colab": {}
      },
      "source": [
        "# Different variance\n",
        "X_varied, y_varied = make_blobs(n_samples=n_samples,\n",
        "                                cluster_std=[1.0, 2.5, 0.5],\n",
        "                                random_state=random_state)\n",
        "y_pred = KMeans(n_clusters=3, random_state=random_state).fit_predict(X_varied)"
      ],
      "execution_count": null,
      "outputs": []
    },
    {
      "cell_type": "code",
      "metadata": {
        "id": "g359-KOvs8-e",
        "colab_type": "code",
        "colab": {},
        "outputId": "367118b3-e8b3-47ee-b10f-624f0be3a039"
      },
      "source": [
        "plt.subplot(223)\n",
        "plt.scatter(X_varied[:, 0], X_varied[:, 1], c=y_pred)\n",
        "plt.title(\"Unequal Variance\")\n"
      ],
      "execution_count": null,
      "outputs": [
        {
          "output_type": "execute_result",
          "data": {
            "text/plain": [
              "Text(0.5, 1.0, 'Unequal Variance')"
            ]
          },
          "metadata": {
            "tags": []
          },
          "execution_count": 29
        },
        {
          "output_type": "display_data",
          "data": {
            "image/png": "[encoded data removed]",
            "text/plain": [
              "<Figure size 432x288 with 1 Axes>"
            ]
          },
          "metadata": {
            "tags": [],
            "needs_background": "light"
          }
        }
      ]
    },
    {
      "cell_type": "code",
      "metadata": {
        "id": "BPGMDyzss8-g",
        "colab_type": "code",
        "colab": {}
      },
      "source": [
        "# Unevenly sized blobs\n",
        "X_filtered = np.vstack((X[y == 0][:500], X[y == 1][:100], X[y == 2][:10]))\n",
        "y_pred = KMeans(n_clusters=3,\n",
        "                random_state=random_state).fit_predict(X_filtered)"
      ],
      "execution_count": null,
      "outputs": []
    },
    {
      "cell_type": "code",
      "metadata": {
        "id": "1GXbbd4Xs8-h",
        "colab_type": "code",
        "colab": {},
        "outputId": "4d4670b2-262a-42fd-fb04-29f7fdc92ebf"
      },
      "source": [
        "plt.subplot(224)\n",
        "plt.scatter(X_filtered[:, 0], X_filtered[:, 1], c=y_pred)\n",
        "plt.title(\"Unevenly Sized Blobs\")\n"
      ],
      "execution_count": null,
      "outputs": [
        {
          "output_type": "execute_result",
          "data": {
            "text/plain": [
              "Text(0.5, 1.0, 'Unevenly Sized Blobs')"
            ]
          },
          "metadata": {
            "tags": []
          },
          "execution_count": 31
        },
        {
          "output_type": "display_data",
          "data": {
            "image/png": "[encoded data removed]",
            "text/plain": [
              "<Figure size 432x288 with 1 Axes>"
            ]
          },
          "metadata": {
            "tags": [],
            "needs_background": "light"
          }
        }
      ]
    },
    {
      "cell_type": "code",
      "metadata": {
        "id": "iG-s9NPfs8-j",
        "colab_type": "code",
        "colab": {}
      },
      "source": [
        "plt.show()"
      ],
      "execution_count": null,
      "outputs": []
    }
  ]
}